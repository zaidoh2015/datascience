{
 "cells": [
  {
   "cell_type": "code",
   "execution_count": 539,
   "metadata": {},
   "outputs": [],
   "source": [
    "# importando as bibliotecas\n",
    "\n",
    "import pandas as pd\n",
    "import datetime as dt"
   ]
  },
  {
   "cell_type": "code",
   "execution_count": 540,
   "metadata": {},
   "outputs": [
    {
     "name": "stdout",
     "output_type": "stream",
     "text": [
      "2018-10-11\n"
     ]
    }
   ],
   "source": [
    "# acessando a data atual\n",
    "\n",
    "hoje = dt.date.today()\n",
    "print(hoje)"
   ]
  },
  {
   "cell_type": "code",
   "execution_count": 541,
   "metadata": {},
   "outputs": [
    {
     "data": {
      "text/plain": [
       "'2018-10-11'"
      ]
     },
     "execution_count": 541,
     "metadata": {},
     "output_type": "execute_result"
    }
   ],
   "source": [
    "#  converte datatime para string\n",
    "hoje = str(hoje)\n",
    "hoje"
   ]
  },
  {
   "cell_type": "code",
   "execution_count": 542,
   "metadata": {},
   "outputs": [
    {
     "data": {
      "text/plain": [
       "'2018-10-11 2018-10-11 2018-10-11 2018-10-11 2018-10-11 2018-10-11 2018-10-11 2018-10-11 2018-10-11 2018-10-11 2018-10-11 2018-10-11 '"
      ]
     },
     "execution_count": 542,
     "metadata": {},
     "output_type": "execute_result"
    }
   ],
   "source": [
    "# gambiarra usando python\n",
    "\n",
    "contDia=(hoje+\" \")*12\n",
    "contDia"
   ]
  },
  {
   "cell_type": "code",
   "execution_count": 543,
   "metadata": {},
   "outputs": [],
   "source": [
    "# criar lista usando o split()\n",
    "\n",
    "gatDia=contDia.split()"
   ]
  },
  {
   "cell_type": "code",
   "execution_count": 544,
   "metadata": {},
   "outputs": [],
   "source": [
    "# passar para uma variavel\n",
    "\n",
    "gates = gatDia\n"
   ]
  },
  {
   "cell_type": "code",
   "execution_count": 545,
   "metadata": {},
   "outputs": [],
   "source": [
    "# criar uma lista simples\n",
    "\n",
    "timeReadIndex='05:00 09:00 QNT 09:00 16:00 QNT 16:00 19:30 QNT 19:30 23:00 QNT'.split()"
   ]
  },
  {
   "cell_type": "code",
   "execution_count": 546,
   "metadata": {},
   "outputs": [],
   "source": [
    "# cria uma lista com tupla das listas gates e timeReadIndex\n",
    "\n",
    "gates_timeReadIndex = list(zip(gates,timeReadIndex))"
   ]
  },
  {
   "cell_type": "code",
   "execution_count": 547,
   "metadata": {},
   "outputs": [],
   "source": [
    "# cria um objeto pandas de multindex\n",
    "\n",
    "gates_timeReadIndex=pd.MultiIndex.from_tuples(gates_timeReadIndex)"
   ]
  },
  {
   "cell_type": "code",
   "execution_count": 548,
   "metadata": {},
   "outputs": [
    {
     "data": {
      "text/plain": [
       "MultiIndex(levels=[['2018-10-11'], ['05:00', '09:00', '16:00', '19:30', '23:00', 'QNT']],\n",
       "           labels=[[0, 0, 0, 0, 0, 0, 0, 0, 0, 0, 0, 0], [0, 1, 5, 1, 2, 5, 2, 3, 5, 3, 4, 5]])"
      ]
     },
     "execution_count": 548,
     "metadata": {},
     "output_type": "execute_result"
    }
   ],
   "source": [
    "gates_timeReadIndex"
   ]
  },
  {
   "cell_type": "code",
   "execution_count": 549,
   "metadata": {},
   "outputs": [],
   "source": [
    "# cria um discionario data\n",
    "\n",
    "data = {'E-001':[208509,208816,qnt11,208816,209010,qnt12,209010,209105,qnt13,209105,209113,qnt14],\n",
    "        'E-002':[208509,208816,qnt21,208816,209010,qnt22,209010,209105,qnt23,209105,209113,qnt24],\n",
    "        'E-003':[208509,208816,qnt31,208816,209010,qnt32,209010,209105,qnt33,209105,209113,qnt34],\n",
    "        'E-004':[208509,208816,qnt41,208816,209010,qnt42,209010,209105,qnt43,209105,209113,qnt44],\n",
    "        'E-005':[208509,208816,qnt51,208816,209010,qnt52,209010,209105,qnt53,209105,209113,qnt54],\n",
    "        'M-006':[208509,208816,qnt61,208816,209010,qnt62,209010,209105,qnt63,209105,209113,qnt64],\n",
    "        'M-007':[208509,208816,qnt71,208816,209010,qnt71,209010,209105,qnt71,209105,209113,qnt71],\n",
    "        'M-008':[208509,208816,qnt81,208816,209010,qnt82,209010,209105,qnt83,209105,209113,qnt84],\n",
    "       }"
   ]
  },
  {
   "cell_type": "code",
   "execution_count": 550,
   "metadata": {},
   "outputs": [],
   "source": [
    "# cria um df com indices multniveis\n",
    "\n",
    "df = pd.DataFrame(data, index=gates_timeReadIndex, \n",
    "                  columns= 'E-001 E-002 E-003 E-004 E-005 M-006 M-007 M-008'.split())"
   ]
  },
  {
   "cell_type": "code",
   "execution_count": 551,
   "metadata": {},
   "outputs": [],
   "source": [
    "# cria uma lista que será passado para coluna sub totaldo df \n",
    "\n",
    "colSubTot = [\"\" ,\"\" , st1,\"\",\"\",st1,\"\",\"\",st1,\"\",\"\",st1]\n"
   ]
  },
  {
   "cell_type": "code",
   "execution_count": 552,
   "metadata": {},
   "outputs": [],
   "source": [
    "# cria uma lista que será passado para coluna total do df e com o calc total\n",
    "\n",
    "colTot= [\" \" ,\" \" , \" \",\" \",\" \",\" \",\" \",\" \",\" \",\" \",\" \",st1+st2+st3+st4]"
   ]
  },
  {
   "cell_type": "code",
   "execution_count": 554,
   "metadata": {},
   "outputs": [],
   "source": [
    "# add uma coluna 'sub total' ao df \n",
    "\n",
    "df['SubTot'] = colSubTot"
   ]
  },
  {
   "cell_type": "code",
   "execution_count": 555,
   "metadata": {},
   "outputs": [],
   "source": [
    "# add uma coluna 'total' ao df\n",
    "\n",
    "df['Total'] = colTot"
   ]
  },
  {
   "cell_type": "code",
   "execution_count": 518,
   "metadata": {},
   "outputs": [],
   "source": [
    "# variaveis que sao responsaveis pelo calculo da coluna subtotal\n",
    "\n",
    "st1 = data['E-001'][2]+data['E-002'][2]+data['E-003'][2]+data['E-004'][2]+data['E-005'][2]+data['M-006'][2]+data['M-007'][2]+data['M-008'][2]\n",
    "st2 = data['E-001'][2]+data['E-002'][5]+data['E-003'][5]+data['E-004'][5]+data['E-005'][5]+data['M-006'][5]+data['M-007'][5]+data['M-008'][5]\n",
    "st3 = data['E-001'][2]+data['E-002'][8]+data['E-003'][8]+data['E-004'][8]+data['E-005'][8]+data['M-006'][8]+data['M-007'][8]+data['M-008'][8]\n",
    "st4 = data['E-001'][2]+data['E-002'][11]+data['E-003'][11]+data['E-004'][11]+data['E-005'][11]+data['M-006'][11]+data['M-007'][11]+data['M-008'][11]"
   ]
  },
  {
   "cell_type": "code",
   "execution_count": 557,
   "metadata": {},
   "outputs": [],
   "source": [
    "# variaveis responsaveis pelos calc parciais geradores do calculo subtotal\n",
    "\n",
    "qnt11=data['E-001'][1]-data['E-001'][0]\n",
    "qnt12=data['E-001'][4]-data['E-001'][3]\n",
    "qnt13=data['E-001'][7]-data['E-001'][6]\n",
    "qnt14=data['E-001'][10]-data['E-001'][9]\n",
    "\n",
    "qnt21=data['E-002'][1]-data['E-002'][0]\n",
    "qnt22=data['E-002'][4]-data['E-002'][3]\n",
    "qnt23=data['E-002'][7]-data['E-002'][6]\n",
    "qnt24=data['E-002'][10]-data['E-002'][9]\n",
    "\n",
    "qnt31=data['E-003'][1]-data['E-003'][0]\n",
    "qnt32=data['E-003'][4]-data['E-003'][3]\n",
    "qnt33=data['E-003'][7]-data['E-003'][6]\n",
    "qnt34=data['E-003'][10]-data['E-003'][9]\n",
    "\n",
    "qnt41=data['E-004'][1]-data['E-004'][0]\n",
    "qnt42=data['E-004'][4]-data['E-004'][3]\n",
    "qnt43=data['E-004'][7]-data['E-004'][6]\n",
    "qnt44=data['E-004'][10]-data['E-004'][9]\n",
    "\n",
    "qnt51=data['E-005'][1]-data['E-005'][0]\n",
    "qnt52=data['E-005'][4]-data['E-005'][3]\n",
    "qnt53=data['E-005'][7]-data['E-005'][6]\n",
    "qnt54=data['E-005'][10]-data['E-005'][9]\n",
    "\n",
    "qnt61=data['M-006'][1]-data['M-006'][0]\n",
    "qnt62=data['M-006'][4]-data['M-006'][3]\n",
    "qnt63=data['M-006'][7]-data['M-006'][6]\n",
    "qnt64=data['M-006'][10]-data['M-006'][9]\n",
    "\n",
    "qnt71=data['M-007'][1]-data['M-007'][0]\n",
    "qnt72=data['M-007'][4]-data['M-007'][3]\n",
    "qnt73=data['M-007'][7]-data['M-007'][6]\n",
    "qnt74=data['M-007'][10]-data['M-007'][9]\n",
    "\n",
    "qnt81=data['M-008'][1]-data['M-008'][0]\n",
    "qnt82=data['M-008'][4]-data['M-008'][3]\n",
    "qnt83=data['M-008'][7]-data['M-008'][6]\n",
    "qnt84=data['M-008'][10]-data['M-008'][9]\n"
   ]
  },
  {
   "cell_type": "code",
   "execution_count": 559,
   "metadata": {},
   "outputs": [
    {
     "data": {
      "text/html": [
       "<div>\n",
       "<style scoped>\n",
       "    .dataframe tbody tr th:only-of-type {\n",
       "        vertical-align: middle;\n",
       "    }\n",
       "\n",
       "    .dataframe tbody tr th {\n",
       "        vertical-align: top;\n",
       "    }\n",
       "\n",
       "    .dataframe thead th {\n",
       "        text-align: right;\n",
       "    }\n",
       "</style>\n",
       "<table border=\"1\" class=\"dataframe\">\n",
       "  <thead>\n",
       "    <tr style=\"text-align: right;\">\n",
       "      <th></th>\n",
       "      <th></th>\n",
       "      <th>E-001</th>\n",
       "      <th>E-002</th>\n",
       "      <th>E-003</th>\n",
       "      <th>E-004</th>\n",
       "      <th>E-005</th>\n",
       "      <th>M-006</th>\n",
       "      <th>M-007</th>\n",
       "      <th>M-008</th>\n",
       "      <th>SubTot</th>\n",
       "      <th>Total</th>\n",
       "    </tr>\n",
       "  </thead>\n",
       "  <tbody>\n",
       "    <tr>\n",
       "      <th rowspan=\"12\" valign=\"top\">2018-10-11</th>\n",
       "      <th>05:00</th>\n",
       "      <td>208509</td>\n",
       "      <td>208509</td>\n",
       "      <td>208509</td>\n",
       "      <td>208509</td>\n",
       "      <td>208509</td>\n",
       "      <td>208509</td>\n",
       "      <td>208509</td>\n",
       "      <td>208509</td>\n",
       "      <td></td>\n",
       "      <td></td>\n",
       "    </tr>\n",
       "    <tr>\n",
       "      <th>09:00</th>\n",
       "      <td>208816</td>\n",
       "      <td>208816</td>\n",
       "      <td>208816</td>\n",
       "      <td>208816</td>\n",
       "      <td>208816</td>\n",
       "      <td>208816</td>\n",
       "      <td>208816</td>\n",
       "      <td>208816</td>\n",
       "      <td></td>\n",
       "      <td></td>\n",
       "    </tr>\n",
       "    <tr>\n",
       "      <th>QNT</th>\n",
       "      <td>307</td>\n",
       "      <td>307</td>\n",
       "      <td>307</td>\n",
       "      <td>307</td>\n",
       "      <td>307</td>\n",
       "      <td>307</td>\n",
       "      <td>307</td>\n",
       "      <td>307</td>\n",
       "      <td>2456</td>\n",
       "      <td></td>\n",
       "    </tr>\n",
       "    <tr>\n",
       "      <th>09:00</th>\n",
       "      <td>208816</td>\n",
       "      <td>208816</td>\n",
       "      <td>208816</td>\n",
       "      <td>208816</td>\n",
       "      <td>208816</td>\n",
       "      <td>208816</td>\n",
       "      <td>208816</td>\n",
       "      <td>208816</td>\n",
       "      <td></td>\n",
       "      <td></td>\n",
       "    </tr>\n",
       "    <tr>\n",
       "      <th>16:00</th>\n",
       "      <td>209010</td>\n",
       "      <td>209010</td>\n",
       "      <td>209010</td>\n",
       "      <td>209010</td>\n",
       "      <td>209010</td>\n",
       "      <td>209010</td>\n",
       "      <td>209010</td>\n",
       "      <td>209010</td>\n",
       "      <td></td>\n",
       "      <td></td>\n",
       "    </tr>\n",
       "    <tr>\n",
       "      <th>QNT</th>\n",
       "      <td>194</td>\n",
       "      <td>194</td>\n",
       "      <td>194</td>\n",
       "      <td>194</td>\n",
       "      <td>194</td>\n",
       "      <td>194</td>\n",
       "      <td>307</td>\n",
       "      <td>194</td>\n",
       "      <td>2456</td>\n",
       "      <td></td>\n",
       "    </tr>\n",
       "    <tr>\n",
       "      <th>16:00</th>\n",
       "      <td>209010</td>\n",
       "      <td>209010</td>\n",
       "      <td>209010</td>\n",
       "      <td>209010</td>\n",
       "      <td>209010</td>\n",
       "      <td>209010</td>\n",
       "      <td>209010</td>\n",
       "      <td>209010</td>\n",
       "      <td></td>\n",
       "      <td></td>\n",
       "    </tr>\n",
       "    <tr>\n",
       "      <th>19:30</th>\n",
       "      <td>209105</td>\n",
       "      <td>209105</td>\n",
       "      <td>209105</td>\n",
       "      <td>209105</td>\n",
       "      <td>209105</td>\n",
       "      <td>209105</td>\n",
       "      <td>209105</td>\n",
       "      <td>209105</td>\n",
       "      <td></td>\n",
       "      <td></td>\n",
       "    </tr>\n",
       "    <tr>\n",
       "      <th>QNT</th>\n",
       "      <td>95</td>\n",
       "      <td>95</td>\n",
       "      <td>95</td>\n",
       "      <td>95</td>\n",
       "      <td>95</td>\n",
       "      <td>95</td>\n",
       "      <td>307</td>\n",
       "      <td>95</td>\n",
       "      <td>2456</td>\n",
       "      <td></td>\n",
       "    </tr>\n",
       "    <tr>\n",
       "      <th>19:30</th>\n",
       "      <td>209105</td>\n",
       "      <td>209105</td>\n",
       "      <td>209105</td>\n",
       "      <td>209105</td>\n",
       "      <td>209105</td>\n",
       "      <td>209105</td>\n",
       "      <td>209105</td>\n",
       "      <td>209105</td>\n",
       "      <td></td>\n",
       "      <td></td>\n",
       "    </tr>\n",
       "    <tr>\n",
       "      <th>23:00</th>\n",
       "      <td>209113</td>\n",
       "      <td>209113</td>\n",
       "      <td>209113</td>\n",
       "      <td>209113</td>\n",
       "      <td>209113</td>\n",
       "      <td>209113</td>\n",
       "      <td>209113</td>\n",
       "      <td>209113</td>\n",
       "      <td></td>\n",
       "      <td></td>\n",
       "    </tr>\n",
       "    <tr>\n",
       "      <th>QNT</th>\n",
       "      <td>8</td>\n",
       "      <td>8</td>\n",
       "      <td>8</td>\n",
       "      <td>8</td>\n",
       "      <td>8</td>\n",
       "      <td>8</td>\n",
       "      <td>307</td>\n",
       "      <td>8</td>\n",
       "      <td>2456</td>\n",
       "      <td>6080</td>\n",
       "    </tr>\n",
       "  </tbody>\n",
       "</table>\n",
       "</div>"
      ],
      "text/plain": [
       "                   E-001   E-002   E-003   E-004   E-005   M-006   M-007  \\\n",
       "2018-10-11 05:00  208509  208509  208509  208509  208509  208509  208509   \n",
       "           09:00  208816  208816  208816  208816  208816  208816  208816   \n",
       "           QNT       307     307     307     307     307     307     307   \n",
       "           09:00  208816  208816  208816  208816  208816  208816  208816   \n",
       "           16:00  209010  209010  209010  209010  209010  209010  209010   \n",
       "           QNT       194     194     194     194     194     194     307   \n",
       "           16:00  209010  209010  209010  209010  209010  209010  209010   \n",
       "           19:30  209105  209105  209105  209105  209105  209105  209105   \n",
       "           QNT        95      95      95      95      95      95     307   \n",
       "           19:30  209105  209105  209105  209105  209105  209105  209105   \n",
       "           23:00  209113  209113  209113  209113  209113  209113  209113   \n",
       "           QNT         8       8       8       8       8       8     307   \n",
       "\n",
       "                   M-008 SubTot Total  \n",
       "2018-10-11 05:00  208509               \n",
       "           09:00  208816               \n",
       "           QNT       307   2456        \n",
       "           09:00  208816               \n",
       "           16:00  209010               \n",
       "           QNT       194   2456        \n",
       "           16:00  209010               \n",
       "           19:30  209105               \n",
       "           QNT        95   2456        \n",
       "           19:30  209105               \n",
       "           23:00  209113               \n",
       "           QNT         8   2456  6080  "
      ]
     },
     "execution_count": 559,
     "metadata": {},
     "output_type": "execute_result"
    }
   ],
   "source": [
    "# exibe o dataFrame\n",
    "\n",
    "df\n",
    "\n"
   ]
  },
  {
   "cell_type": "code",
   "execution_count": null,
   "metadata": {},
   "outputs": [],
   "source": []
  }
 ],
 "metadata": {
  "kernelspec": {
   "display_name": "Python 3",
   "language": "python",
   "name": "python3"
  },
  "language_info": {
   "codemirror_mode": {
    "name": "ipython",
    "version": 3
   },
   "file_extension": ".py",
   "mimetype": "text/x-python",
   "name": "python",
   "nbconvert_exporter": "python",
   "pygments_lexer": "ipython3",
   "version": "3.6.5"
  }
 },
 "nbformat": 4,
 "nbformat_minor": 2
}
